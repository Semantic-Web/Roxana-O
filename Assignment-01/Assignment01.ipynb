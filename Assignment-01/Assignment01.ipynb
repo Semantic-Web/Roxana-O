{
 "cells": [
  {
   "cell_type": "code",
   "execution_count": 3,
   "metadata": {
    "collapsed": false
   },
   "outputs": [
    {
     "name": "stdout",
     "output_type": "stream",
     "text": [
      "US Census Bureau, Department of Commerce 178510\n",
      "National Oceanic and Atmospheric Administration, Department of Commerce 155713\n",
      "U.S. Geological Survey, Department of the Interior 109834\n",
      "U.S. Department of Health & Human Services 93297\n",
      "Department of Agriculture 76948\n",
      "Department of Defense 45886\n",
      "Earth Data Analysis Center, University of New Mexico 41974\n",
      "Department of Education 39064\n",
      "Department of Transportation 37620\n",
      "General Services Administration 31281\n"
     ]
    }
   ],
   "source": [
    "# -*- coding: utf-8 -*-\n",
    "\"\"\"\n",
    "Created on Sun Jun  7 22:23:29 2015\n",
    "\n",
    "@author: roxana\n",
    "\"\"\"\n",
    "\n",
    "import matplotlib.pyplot as plt\n",
    "import numpy as np\n",
    "import csv \n",
    "\n",
    "def open_with_csv(filename, d = ','):\n",
    "    data= []\n",
    "    with open(filename) as tsvin:\n",
    "        reader= csv.reader(tsvin, delimiter = d)\n",
    "        for line in reader:\n",
    "            data.append(line)\n",
    "    return data\n",
    "#==============================================================================\n",
    "#     Main program here : \n",
    "#==============================================================================\n",
    "\n",
    "counts = dict()             \n",
    "data_from_csv = open_with_csv('datagovdatasetsviewmetrics.csv')\n",
    "for line in data_from_csv[2:]:\n",
    "    counts[line[2]] = counts.get(line[2], 0) + int(line[3])\n",
    "\n",
    "lst = list()\n",
    "new_list_organ =list()\n",
    "new_list_views = list()\n",
    "for key, val in counts.items():\n",
    "    lst.append((val, key))\n",
    "lst.sort(reverse=True)\n",
    "for val, key in lst[:10]:\n",
    "    print key.format(), val\n",
    "    new_list_views.append(val)\n",
    "    new_list_organ.append(key)\n",
    "fig =  plt.subplots()\n",
    "N=10\n",
    "index = np.arange(N)\n",
    "bar_width = 0.50\n",
    "opacity = 0.4\n",
    "error_config = {'ecolor': '1'}\n",
    "rect = plt.bar(index+0.2, new_list_views , bar_width,\n",
    "                 alpha=opacity,\n",
    "                 color='b')\n",
    "\n",
    "plt.xlabel('Organization')\n",
    "plt.ylabel('Views')\n",
    "plt.title('Views by Organization')\n",
    "plt.xticks(index + bar_width, index+1 )\n",
    "plt.tight_layout()\n",
    "plt.show()\n",
    "    \n",
    "#n_groups = 10\n",
    "#fig, ax = plt.subplots()\n"
   ]
  },
  {
   "cell_type": "code",
   "execution_count": null,
   "metadata": {
    "collapsed": true
   },
   "outputs": [],
   "source": []
  }
 ],
 "metadata": {
  "kernelspec": {
   "display_name": "Python 2",
   "language": "python",
   "name": "python2"
  },
  "language_info": {
   "codemirror_mode": {
    "name": "ipython",
    "version": 2
   },
   "file_extension": ".py",
   "mimetype": "text/x-python",
   "name": "python",
   "nbconvert_exporter": "python",
   "pygments_lexer": "ipython2",
   "version": "2.7.10"
  }
 },
 "nbformat": 4,
 "nbformat_minor": 0
}
